{
 "cells": [
  {
   "cell_type": "markdown",
   "id": "handy-champion",
   "metadata": {},
   "source": [
    "# Training a Convolutional Neural Network Classifier for Material Scoring\n",
    "\n",
    "Kuanlin Chen, PhD student of the schulman lab<br>\n",
    "Advisor: Rebecca Schulman, PhD<br>\n",
    "Johns Hopkins University\n",
    "\n",
    "**Keywords: Machine Learning, Deep Learning, Computer Vision**"
   ]
  },
  {
   "cell_type": "markdown",
   "id": "american-riverside",
   "metadata": {},
   "source": [
    "***\n",
    "#### Summary:\n",
    "\n",
    "We compiled a convolutional neural network model with the TensorFlow library and trained the model with a combinatory dataset containing the MNIST digit dataset and dataset generated with the strip automata geometry simulation. \n",
    "\n",
    "The generated dataset includes twenty-eight thousand human labelled images, consists of strip automata images in the shape of different digits and random squiggles. We created a new class for the random squiggles so that the model can recognize bad designs/images and can account for them. We then combined the generated dataset with the MNIST dataset for a combinatory dataset so the dataset contains a suitable amount of information for training purposes.\n",
    "\n",
    "The combined dataset consists of ninety-eight thousand images and is split into training and test set each containing eighty-four thousand and fourteen thousand images. Dataset is normalized prior to training for training efficiency. \n",
    "\n",
    "The model is a sequential deep learning model, consists of two convolutional layers with relu activation and max-pooling layers. Dropout layer is implemented to avoid overfitting, and a flattened layer is added prior to the fully connected layers. Two fully connected layers with relu activation along with a final output layer with softmax activation is added in the end for classification. \n",
    "\n",
    "The model is compiled with categorical cross-entropy entropy loss, trained using the Adam optimizer with the default learning rate and achieved ninety-eight percent accuracy on the test set by the end of training. "
   ]
  },
  {
   "cell_type": "code",
   "execution_count": 2,
   "id": "pressed-ceiling",
   "metadata": {},
   "outputs": [
    {
     "name": "stdout",
     "output_type": "stream",
     "text": [
      "2.4.3\n",
      "2.2.0\n"
     ]
    }
   ],
   "source": [
    "# Package Importing\n",
    "import csv, math, os, time, copy, matplotlib, datetime, keras\n",
    "\n",
    "import tensorflow as tf\n",
    "\n",
    "import numpy as np\n",
    "import matplotlib.pyplot as plt\n",
    "\n",
    "from keras.datasets import mnist\n",
    "from keras.models import Sequential, load_model\n",
    "from keras.layers import Dense, Dropout, Flatten\n",
    "from keras.layers.convolutional import Conv2D, MaxPooling2D\n",
    "from keras.utils import np_utils\n",
    "\n",
    "from scipy import io as spio\n",
    "from scipy.ndimage import gaussian_filter\n",
    "from scipy.stats import bernoulli\n",
    "\n",
    "from math import log10, floor\n",
    "\n",
    "from skimage import transform, exposure\n",
    "\n",
    "print(keras.__version__) # 2.4.3\n",
    "print(tf.__version__) # 2.2.0"
   ]
  },
  {
   "cell_type": "code",
   "execution_count": 3,
   "id": "sticky-house",
   "metadata": {},
   "outputs": [],
   "source": [
    "# Plotting Set-Up\n",
    "plt.rc('font', family = 'serif', size = 13, weight = \"bold\")\n",
    "plt.rc('xtick', labelsize = 10)\n",
    "plt.rc('ytick', labelsize = 10)\n",
    "plt.rc('axes', linewidth = 2)\n",
    "plt.rc('lines', linewidth = 3)\n",
    "plt.rc('figure', figsize = (6, 6))\n",
    "plt.rc('legend', fontsize = 13)\n",
    "\n",
    "cm = plt.cm.get_cmap('tab20')"
   ]
  },
  {
   "cell_type": "markdown",
   "id": "surrounded-disorder",
   "metadata": {},
   "source": [
    "#### Load MNIST digit dataset"
   ]
  },
  {
   "cell_type": "code",
   "execution_count": 13,
   "id": "relevant-possession",
   "metadata": {},
   "outputs": [],
   "source": [
    "(X_train_mnist, y_train_mnist), (X_test_mnist, y_test_mnist) = mnist.load_data()"
   ]
  },
  {
   "cell_type": "markdown",
   "id": "directed-italian",
   "metadata": {},
   "source": [
    "#### Loading generated Automata dataset"
   ]
  },
  {
   "cell_type": "code",
   "execution_count": 14,
   "id": "narrow-antigua",
   "metadata": {},
   "outputs": [
    {
     "name": "stdout",
     "output_type": "stream",
     "text": [
      "(24092, 28, 28)\n",
      "(4252, 28, 28)\n"
     ]
    }
   ],
   "source": [
    "# organize and load strip digit dataset\n",
    "from sklearn.model_selection import train_test_split\n",
    "\n",
    "folder = \"Deep-Learning-Model-Data\"\n",
    "ver_num = 2\n",
    "\n",
    "# # read files and save imgname and label into files with [(imgname1, label1) ...]\n",
    "# files = [(\"/\".join((folder,\"digit{}\".format(i),j)), i) for i in range(11) for j in os.listdir(\"/\".join((folder,\"digit{}\".format(i)))) if \".DS\" not in j]\n",
    "# X_strip = np.zeros(shape=(len(files), 28, 28))\n",
    "# y_strip = np.zeros(shape=(len(files)))\n",
    "# for i in range(len(files)):\n",
    "#     X_strip[i] = plt.imread(files[i][0])[:,:,0]; y_strip[i] = files[i][1]\n",
    "\n",
    "\n",
    "# # read files and save imgname and label into files with [(imgname1, label1) ...]\n",
    "# files = [(\"/\".join((folder,\"digit{}\".format(i),j)), i) for i in range(10) for j in os.listdir(\"/\".join((folder,\"digit{}\".format(i)))) if \".DS\" not in j]\n",
    "# X_strip_1 = np.zeros(shape=(len(files), 28, 28))\n",
    "# y_strip_1 = np.zeros(shape=(len(files)))\n",
    "# for i in range(len(files)):\n",
    "#     X_strip_1[i] = plt.imread(files[i][0])[:,:,0]; y_strip_1[i] = files[i][1]\n",
    "\n",
    "# # rotate random squiggle images\n",
    "# files = [(\"/\".join((folder,\"digit{}\".format(i),j)), i) for i in range(10, 11) for j in os.listdir(\"/\".join((folder,\"digit{}\".format(i)))) if \".DS\" not in j]\n",
    "# X_strip_2 = np.zeros(shape=(len(files)*4, 28, 28))\n",
    "# y_strip_2 = np.zeros(shape=(len(files)*4)); ctr = 0\n",
    "# for i in range(len(files)):\n",
    "#     X_strip_2[ctr] = plt.imread(files[i][0])[:,:,0]; y_strip_2[ctr] = files[i][1]\n",
    "#     X_strip_2[ctr+1] = np.rot90(plt.imread(files[i][0])[:,:,0],1); y_strip_2[ctr+1] = files[i][1]\n",
    "#     X_strip_2[ctr+2] = np.rot90(plt.imread(files[i][0])[:,:,0],2); y_strip_2[ctr+2] = files[i][1]\n",
    "#     X_strip_2[ctr+3] = np.rot90(plt.imread(files[i][0])[:,:,0],3); y_strip_2[ctr+3] = files[i][1]\n",
    "#     ctr += 4\n",
    "# X_strip = np.concatenate((X_strip_1, X_strip_2))\n",
    "# y_strip = np.concatenate((y_strip_1, y_strip_2))\n",
    "\n",
    "\n",
    "# X_train_strip, X_test_strip, y_train_strip, y_test_strip = train_test_split(X_strip, y_strip,\\\n",
    "#                                                     test_size = 0.15, random_state = 89,\\\n",
    "#                                                     stratify = y_strip, shuffle = True)\n",
    "\n",
    "# np.save(folder+\"/X_train_strip_v{}.npy\".format(ver_num), X_train_strip)\n",
    "# np.save(folder+\"/X_test_strip_v{}.npy\".format(ver_num), X_test_strip)\n",
    "# np.save(folder+\"/y_train_strip_v{}.npy\".format(ver_num), y_train_strip)\n",
    "# np.save(folder+\"/y_test_strip_v{}.npy\".format(ver_num), y_test_strip)\n",
    "\n",
    "# load .npy data\n",
    "X_train_strip = np.load(folder+\"/X_train_strip_v{}.npy\".format(ver_num))\n",
    "X_test_strip = np.load(folder+\"/X_test_strip_v{}.npy\".format(ver_num))\n",
    "y_train_strip = np.load(folder+\"/y_train_strip_v{}.npy\".format(ver_num))\n",
    "y_test_strip = np.load(folder+\"/y_test_strip_v{}.npy\".format(ver_num))\n",
    "\n",
    "print(X_train_strip.shape)\n",
    "print(X_test_strip.shape)"
   ]
  },
  {
   "cell_type": "markdown",
   "id": "undefined-treasurer",
   "metadata": {},
   "source": [
    "We have around 28,000 training data from the automata image library. We added an additional class **10** containing random squiggles, so the model can recognize and identify bad designs."
   ]
  },
  {
   "cell_type": "code",
   "execution_count": 15,
   "id": "devoted-drain",
   "metadata": {},
   "outputs": [
    {
     "data": {
      "image/png": "[encoded data removed]",
      "text/plain": [
       "<Figure size 936x432 with 2 Axes>"
      ]
     },
     "metadata": {
      "needs_background": "light"
     },
     "output_type": "display_data"
    }
   ],
   "source": [
    "fig = plt.figure(figsize = (13, 6))\n",
    "plt.subplot(1, 2, 1)\n",
    "y , x = np.histogram(y_train_strip, bins = range(12))\n",
    "plt.bar(range(11), y)\n",
    "plt.title(\"Generated Training Dataset Distribution\", weight = \"bold\")\n",
    "plt.xlabel(\"Class\", weight = \"bold\")\n",
    "plt.xticks(range(11), weight = \"bold\")\n",
    "plt.ylabel(\"Image #\", weight = \"bold\")\n",
    "for i, v, in enumerate(y):\n",
    "    plt.text(i-.5, v+100, str(v), fontsize = 9)\n",
    "plt.subplot(1, 2, 2)\n",
    "y , x = np.histogram(y_test_strip, bins = range(12))\n",
    "plt.bar(range(11), y)\n",
    "plt.title(\"Generated Testing Dataset Distribution\", weight = \"bold\")\n",
    "plt.xlabel(\"Class\", weight = \"bold\")\n",
    "plt.xticks(range(11), weight = \"bold\")\n",
    "plt.ylabel(\"Image #\", weight = \"bold\")\n",
    "for i, v, in enumerate(y):\n",
    "    plt.text(i-.5, v+25, str(v), fontsize = 10)\n",
    "plt.show()"
   ]
  },
  {
   "cell_type": "markdown",
   "id": "coupled-freight",
   "metadata": {},
   "source": [
    "#### Dataset Combination"
   ]
  },
  {
   "cell_type": "code",
   "execution_count": 16,
   "id": "christian-palmer",
   "metadata": {},
   "outputs": [
    {
     "name": "stdout",
     "output_type": "stream",
     "text": [
      "(84092, 28, 28, 1)\n",
      "(14252, 28, 28, 1)\n",
      "(84092, 11)\n",
      "(14252, 11)\n",
      "Num classes is 11\n"
     ]
    }
   ],
   "source": [
    "X_train_mnist = X_train_mnist / 255; X_test_mnist = X_test_mnist / 255\n",
    "X_train_mnist = X_train_mnist.astype(np.float32)\n",
    "X_test_mnist = X_test_mnist.astype(np.float32)\n",
    "X_train_strip = X_train_strip.astype(np.float32)\n",
    "X_test_strip = X_test_strip.astype(np.float32)\n",
    "\n",
    "X_train = np.concatenate((X_train_mnist, X_train_strip))\n",
    "X_test = np.concatenate((X_test_mnist, X_test_strip))\n",
    "X_train = X_train.reshape((X_train.shape[0], 28, 28, 1)).astype('float32')\n",
    "X_test = X_test.reshape((X_test.shape[0], 28, 28, 1)).astype('float32')\n",
    "y_train = np.concatenate((y_train_mnist, y_train_strip))\n",
    "y_test = np.concatenate((y_test_mnist, y_test_strip))\n",
    "y_train = np_utils.to_categorical(y_train)\n",
    "y_test = np_utils.to_categorical(y_test)\n",
    "\n",
    "print(X_train.shape)\n",
    "print(X_test.shape)\n",
    "print(y_train.shape)\n",
    "print(y_test.shape)\n",
    "\n",
    "num_classes = y_test.shape[1]\n",
    "print(\"Num classes is \" + str(num_classes))"
   ]
  },
  {
   "cell_type": "code",
   "execution_count": 17,
   "id": "experienced-chassis",
   "metadata": {},
   "outputs": [
    {
     "data": {
      "image/png": "[encoded data removed]",
      "text/plain": [
       "<Figure size 432x432 with 1 Axes>"
      ]
     },
     "metadata": {
      "needs_background": "light"
     },
     "output_type": "display_data"
    }
   ],
   "source": [
    "y , x = np.histogram(np.concatenate((y_train_mnist, y_train_strip)), bins = range(12))\n",
    "plt.bar(range(11), y, color = cm.colors[1], label = \"Automata\")\n",
    "y , x = np.histogram(y_train_mnist, bins = range(11))\n",
    "plt.bar(range(10), y, color = cm.colors[0], label = \"MNIST\")\n",
    "plt.title(\"Combinatory Dataset Distribution\", weight = \"bold\")\n",
    "plt.xlabel(\"Digit Class\", weight = \"bold\")\n",
    "plt.xticks(range(12), weight = \"bold\")\n",
    "plt.ylabel(\"Image Number\", weight = \"bold\")\n",
    "plt.legend(loc=4)\n",
    "plt.show()"
   ]
  },
  {
   "cell_type": "markdown",
   "id": "innovative-indonesian",
   "metadata": {},
   "source": [
    "The combinatory dataset contains an even amount of data for each class."
   ]
  },
  {
   "cell_type": "markdown",
   "id": "veterinary-edwards",
   "metadata": {},
   "source": [
    "#### Model Summary"
   ]
  },
  {
   "cell_type": "code",
   "execution_count": 19,
   "id": "physical-trade",
   "metadata": {},
   "outputs": [],
   "source": [
    "model = load_model(\"Deep_Learning_Classifier_v1.h5\")"
   ]
  },
  {
   "cell_type": "code",
   "execution_count": 20,
   "id": "available-strip",
   "metadata": {},
   "outputs": [
    {
     "name": "stdout",
     "output_type": "stream",
     "text": [
      "Model: \"sequential_3\"\n",
      "_________________________________________________________________\n",
      "Layer (type)                 Output Shape              Param #   \n",
      "=================================================================\n",
      "conv2d_5 (Conv2D)            (None, 24, 24, 30)        780       \n",
      "_________________________________________________________________\n",
      "max_pooling2d_5 (MaxPooling2 (None, 12, 12, 30)        0         \n",
      "_________________________________________________________________\n",
      "conv2d_6 (Conv2D)            (None, 10, 10, 15)        4065      \n",
      "_________________________________________________________________\n",
      "max_pooling2d_6 (MaxPooling2 (None, 5, 5, 15)          0         \n",
      "_________________________________________________________________\n",
      "dropout_3 (Dropout)          (None, 5, 5, 15)          0         \n",
      "_________________________________________________________________\n",
      "flatten_3 (Flatten)          (None, 375)               0         \n",
      "_________________________________________________________________\n",
      "dense_7 (Dense)              (None, 256)               96256     \n",
      "_________________________________________________________________\n",
      "dense_8 (Dense)              (None, 100)               25700     \n",
      "_________________________________________________________________\n",
      "dense_9 (Dense)              (None, 11)                1111      \n",
      "=================================================================\n",
      "Total params: 127,912\n",
      "Trainable params: 127,912\n",
      "Non-trainable params: 0\n",
      "_________________________________________________________________\n"
     ]
    }
   ],
   "source": [
    "model.summary()"
   ]
  },
  {
   "cell_type": "markdown",
   "id": "governing-protocol",
   "metadata": {},
   "source": [
    "#### Model Training is performed on the MARCC cloud server for efficiency, result is thus not shown here."
   ]
  },
  {
   "cell_type": "code",
   "execution_count": 18,
   "id": "enormous-schedule",
   "metadata": {},
   "outputs": [],
   "source": [
    "# # convolutional neural network\n",
    "# model = Sequential()\n",
    "# model.add(Conv2D(30, (5, 5), input_shape = (28, 28, 1), activation = 'relu'))\n",
    "# model.add(MaxPooling2D())\n",
    "# model.add(Conv2D(15, (3, 3), activation = 'relu'))\n",
    "# model.add(MaxPooling2D())\n",
    "# model.add(Dropout(0.2))\n",
    "# model.add(Flatten())\n",
    "# model.add(Dense(256, activation='relu'))\n",
    "# model.add(Dense(100, activation='relu'))\n",
    "# model.add(Dense(num_classes, activation = 'softmax'))\n",
    "# # Compile model\n",
    "# model.compile(loss = 'categorical_crossentropy', optimizer = 'adam', metrics = ['accuracy'])\n",
    "\n",
    "# filepath = \"DigitClassifier_20201014_mod3.h5\"\n",
    "\n",
    "# checkpoint = ModelCheckpoint(filepath, monitor = 'val_loss', verbose = 1, save_best_only = True, mode = 'min')\n",
    "# callbacks_list = [checkpoint]\n",
    "\n",
    "# history = model.fit(X_train, y_train,\\\n",
    "#                     validation_data = (X_test, y_test), epochs = 20, batch_size = 200,\\\n",
    "#                     callbacks = callbacks_list)"
   ]
  },
  {
   "cell_type": "markdown",
   "id": "chronic-drama",
   "metadata": {},
   "source": [
    "#### Model Evaluation - 98% accuracy"
   ]
  },
  {
   "cell_type": "code",
   "execution_count": 21,
   "id": "nutritional-apparatus",
   "metadata": {},
   "outputs": [
    {
     "name": "stdout",
     "output_type": "stream",
     "text": [
      "446/446 [==============================] - 1s 3ms/step - loss: 0.0656 - accuracy: 0.9802\n"
     ]
    },
    {
     "data": {
      "text/plain": [
       "[0.06561373174190521, 0.9802132844924927]"
      ]
     },
     "execution_count": 21,
     "metadata": {},
     "output_type": "execute_result"
    }
   ],
   "source": [
    "model.evaluate(X_test, y_test)"
   ]
  },
  {
   "cell_type": "code",
   "execution_count": null,
   "id": "scenic-hundred",
   "metadata": {},
   "outputs": [],
   "source": []
  }
 ],
 "metadata": {
  "kernelspec": {
   "display_name": "Python 3",
   "language": "python",
   "name": "python3"
  },
  "language_info": {
   "codemirror_mode": {
    "name": "ipython",
    "version": 3
   },
   "file_extension": ".py",
   "mimetype": "text/x-python",
   "name": "python",
   "nbconvert_exporter": "python",
   "pygments_lexer": "ipython3",
   "version": "3.7.10"
  }
 },
 "nbformat": 4,
 "nbformat_minor": 5
}
